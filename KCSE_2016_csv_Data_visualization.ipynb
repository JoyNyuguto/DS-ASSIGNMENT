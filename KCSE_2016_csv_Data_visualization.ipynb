{
  "nbformat": 4,
  "nbformat_minor": 0,
  "metadata": {
    "colab": {
      "name": "KCSE_2016 csv Data visualization",
      "provenance": [],
      "authorship_tag": "ABX9TyMsjvCUUUKk3NySNBhCv5FF",
      "include_colab_link": true
    },
    "kernelspec": {
      "name": "python3",
      "display_name": "Python 3"
    },
    "language_info": {
      "name": "python"
    }
  },
  "cells": [
    {
      "cell_type": "markdown",
      "metadata": {
        "id": "view-in-github",
        "colab_type": "text"
      },
      "source": [
        "<a href=\"https://colab.research.google.com/github/JoyNyuguto/DS-ASSIGNMENT/blob/main/KCSE_2016_csv_Data_visualization.ipynb\" target=\"_parent\"><img src=\"https://colab.research.google.com/assets/colab-badge.svg\" alt=\"Open In Colab\"/></a>"
      ]
    },
    {
      "cell_type": "code",
      "execution_count": null,
      "metadata": {
        "id": "zCOEmzAy0ESe"
      },
      "outputs": [],
      "source": [
        ""
      ]
    },
    {
      "cell_type": "code",
      "metadata": {
        "id": "zafOF0BBGCDM",
        "colab": {
          "resources": {
            "http://localhost:8080/nbextensions/google.colab/files.js": {
              "data": "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",
              "ok": true,
              "headers": [
                [
                  "content-type",
                  "application/javascript"
                ]
              ],
              "status": 200,
              "status_text": ""
            }
          },
          "base_uri": "https://localhost:8080/",
          "height": 73
        },
        "outputId": "98ba2067-3597-49c3-b0e0-6d369e5bfd95"
      },
      "source": [
        "# Step 1:Uploading data files\n",
        "from google.colab import files\n",
        "uploaded =files.upload()"
      ],
      "execution_count": null,
      "outputs": [
        {
          "output_type": "display_data",
          "data": {
            "text/html": [
              "\n",
              "     <input type=\"file\" id=\"files-eff7450d-979a-4dcf-8b9e-e37197073ed3\" name=\"files[]\" multiple disabled\n",
              "        style=\"border:none\" />\n",
              "     <output id=\"result-eff7450d-979a-4dcf-8b9e-e37197073ed3\">\n",
              "      Upload widget is only available when the cell has been executed in the\n",
              "      current browser session. Please rerun this cell to enable.\n",
              "      </output>\n",
              "      <script src=\"/nbextensions/google.colab/files.js\"></script> "
            ],
            "text/plain": [
              "<IPython.core.display.HTML object>"
            ]
          },
          "metadata": {}
        },
        {
          "output_type": "stream",
          "name": "stdout",
          "text": [
            "Saving KCSE_2016.csv to KCSE_2016.csv\n"
          ]
        }
      ]
    },
    {
      "cell_type": "code",
      "source": [
        ""
      ],
      "metadata": {
        "id": "k7yANWPw0xfp"
      },
      "execution_count": null,
      "outputs": []
    },
    {
      "cell_type": "code",
      "metadata": {
        "id": "t25TlKeJGG-R",
        "colab": {
          "base_uri": "https://localhost:8080/"
        },
        "outputId": "65c984df-0d3b-4ac2-be24-0eb30cd900a7"
      },
      "source": [
        "# To confirm we have the files\n",
        "# Get access to the data in the google drive using a dictionary\n",
        "#returns a dictionary of the files which were uploaded. The dictionary is keyed by the file name and values are the data which were uploaded.\n",
        "\n",
        "for fn in uploaded.keys():\n",
        " print ('User uploaded file \"{name}\" with length {length} bytes'.format ( name=fn, length=len(uploaded[fn])))\n"
      ],
      "execution_count": null,
      "outputs": [
        {
          "output_type": "stream",
          "name": "stdout",
          "text": [
            "User uploaded file \"KCSE_2016.csv\" with length 1554 bytes\n"
          ]
        }
      ]
    },
    {
      "cell_type": "code",
      "source": [
        ""
      ],
      "metadata": {
        "id": "RoT6U7QW00RI"
      },
      "execution_count": null,
      "outputs": []
    },
    {
      "cell_type": "code",
      "metadata": {
        "id": "OBGp1vNuKABL",
        "colab": {
          "base_uri": "https://localhost:8080/"
        },
        "outputId": "f861366a-4936-4b30-b1f6-0bf8f37ec5bb"
      },
      "source": [
        "# To see the records\n",
        "import pandas as pd\n",
        "import io\n",
        "from io import StringIO\n",
        "import string\n",
        "df_train = pd.read_csv (io.StringIO(uploaded['KCSE_2016.csv'].decode('utf-8')))\n",
        "print(df_train.head())"
      ],
      "execution_count": null,
      "outputs": [
        {
          "output_type": "stream",
          "name": "stdout",
          "text": [
            "   Gender  Years     A    A-     B+  ...     C-     D+       D      D-      E\n",
            "0  FEMALE   2016    58  2685   6581  ...  30979  41632   57487   77718  18007\n",
            "1    MALE   2016    83  1960   4394  ...  30047  39319   54648   72211  15322\n",
            "2     ALL   2016   141  4645  10975  ...  61026  80951  112135  149929  33399\n",
            "3    MALE   2015  2024  7952  13517  ...  37482  40181   40442   25531   3127\n",
            "4  FEMALE   2015   661  4117   8410  ...  36633  38976   39113   23127   2223\n",
            "\n",
            "[5 rows x 14 columns]\n"
          ]
        }
      ]
    },
    {
      "cell_type": "code",
      "source": [
        ""
      ],
      "metadata": {
        "id": "iaPxgtwj058P"
      },
      "execution_count": null,
      "outputs": []
    },
    {
      "cell_type": "code",
      "metadata": {
        "id": "92HVLq78MY17",
        "colab": {
          "base_uri": "https://localhost:8080/"
        },
        "outputId": "59cd0329-0fcc-44d6-9bda-a35f04fbead1"
      },
      "source": [
        "\n",
        "df_test = pd.read_csv (io.StringIO(uploaded['KCSE_2016.csv'].decode('utf-8')))\n",
        "print(df_test.head())"
      ],
      "execution_count": null,
      "outputs": [
        {
          "output_type": "stream",
          "name": "stdout",
          "text": [
            "   Gender  Years     A    A-     B+  ...     C-     D+       D      D-      E\n",
            "0  FEMALE   2016    58  2685   6581  ...  30979  41632   57487   77718  18007\n",
            "1    MALE   2016    83  1960   4394  ...  30047  39319   54648   72211  15322\n",
            "2     ALL   2016   141  4645  10975  ...  61026  80951  112135  149929  33399\n",
            "3    MALE   2015  2024  7952  13517  ...  37482  40181   40442   25531   3127\n",
            "4  FEMALE   2015   661  4117   8410  ...  36633  38976   39113   23127   2223\n",
            "\n",
            "[5 rows x 14 columns]\n"
          ]
        }
      ]
    },
    {
      "cell_type": "code",
      "source": [
        ""
      ],
      "metadata": {
        "id": "5arYS9Kv1j4H"
      },
      "execution_count": null,
      "outputs": []
    },
    {
      "cell_type": "code",
      "metadata": {
        "id": "pfYn6BeORE2r"
      },
      "source": [
        "\n",
        "# Missing values counts in each column\n",
        "\n",
        "missing_count =(df_train.isnull().sum() / len(df_train)) * 100\n",
        "\n",
        "# Filter to  get columns with missing count > 0\n",
        "\n",
        "missing_count = missing_count[missing_count > 0]\n",
        "print = (missing_count)\n"
      ],
      "execution_count": null,
      "outputs": []
    },
    {
      "cell_type": "code",
      "source": [
        ""
      ],
      "metadata": {
        "id": "LFO2RG8N1tN6"
      },
      "execution_count": null,
      "outputs": []
    },
    {
      "cell_type": "code",
      "metadata": {
        "id": "gJBJJcYva3wD",
        "colab": {
          "base_uri": "https://localhost:8080/",
          "height": 296
        },
        "outputId": "19f3e265-3677-4531-dfdd-1156710a0aaa"
      },
      "source": [
        "import seaborn as sns\n",
        "sns.countplot(x='Gender',data=df_train)"
      ],
      "execution_count": null,
      "outputs": [
        {
          "output_type": "execute_result",
          "data": {
            "text/plain": [
              "<matplotlib.axes._subplots.AxesSubplot at 0x7f6f09a19f10>"
            ]
          },
          "metadata": {},
          "execution_count": 6
        },
        {
          "output_type": "display_data",
          "data": {
            "image/png": "[encoded data removed]",
            "text/plain": [
              "<Figure size 432x288 with 1 Axes>"
            ]
          },
          "metadata": {
            "needs_background": "light"
          }
        }
      ]
    },
    {
      "cell_type": "markdown",
      "source": [
        ""
      ],
      "metadata": {
        "id": "dwm1uYjW11SC"
      }
    },
    {
      "cell_type": "markdown",
      "source": [
        "#We can observe from the graph that the number of Male candidates is significantly higher than the number of female candidates over the years."
      ],
      "metadata": {
        "id": "zRlGAqiq9sLF"
      }
    },
    {
      "cell_type": "code",
      "source": [
        ""
      ],
      "metadata": {
        "id": "znqdMvum13jr"
      },
      "execution_count": null,
      "outputs": []
    },
    {
      "cell_type": "code",
      "source": [
        "sns.kdeplot(x = 'A' , data = df_train, color = 'black')"
      ],
      "metadata": {
        "id": "sa9YtdNw-2aW",
        "outputId": "a8627792-87ba-483c-8aff-05268c03999c",
        "colab": {
          "base_uri": "https://localhost:8080/",
          "height": 296
        }
      },
      "execution_count": null,
      "outputs": [
        {
          "output_type": "execute_result",
          "data": {
            "text/plain": [
              "<matplotlib.axes._subplots.AxesSubplot at 0x7f6ef36612d0>"
            ]
          },
          "metadata": {},
          "execution_count": 9
        },
        {
          "output_type": "display_data",
          "data": {
            "image/png": "[encoded data removed]",
            "text/plain": [
              "<Figure size 432x288 with 1 Axes>"
            ]
          },
          "metadata": {
            "needs_background": "light"
          }
        }
      ]
    },
    {
      "cell_type": "markdown",
      "source": [
        ""
      ],
      "metadata": {
        "id": "AV6lVJTt2B7d"
      }
    },
    {
      "cell_type": "markdown",
      "source": [
        "\n",
        "#The peak of the graph is between 0 to 100 which means only few students scored A's over the years\n"
      ],
      "metadata": {
        "id": "ErnJiwx6_Vbh"
      }
    },
    {
      "cell_type": "code",
      "source": [
        ""
      ],
      "metadata": {
        "id": "wW8fRCDx2E8Q"
      },
      "execution_count": null,
      "outputs": []
    },
    {
      "cell_type": "code",
      "source": [
        "corr = df_train.corr()\n",
        "sns.heatmap(corr)"
      ],
      "metadata": {
        "id": "kwNahtuTrcjI",
        "outputId": "78a867ab-e644-48c0-c6d5-73f7606d7bd8",
        "colab": {
          "base_uri": "https://localhost:8080/",
          "height": 287
        }
      },
      "execution_count": null,
      "outputs": [
        {
          "output_type": "execute_result",
          "data": {
            "text/plain": [
              "<matplotlib.axes._subplots.AxesSubplot at 0x7f6ef365a3d0>"
            ]
          },
          "metadata": {},
          "execution_count": 8
        },
        {
          "output_type": "display_data",
          "data": {
            "image/png": "[encoded data removed]",
            "text/plain": [
              "<Figure size 432x288 with 2 Axes>"
            ]
          },
          "metadata": {
            "needs_background": "light"
          }
        }
      ]
    },
    {
      "cell_type": "code",
      "source": [
        ""
      ],
      "metadata": {
        "id": "yxX7PBBM2Lyb"
      },
      "execution_count": null,
      "outputs": []
    },
    {
      "cell_type": "code",
      "source": [
        "sns.countplot(x='Gender', hue = 'A', data = df_train,\n",
        "palette = 'Set1')"
      ],
      "metadata": {
        "colab": {
          "base_uri": "https://localhost:8080/",
          "height": 402
        },
        "id": "El8Jv8-XCn0-",
        "outputId": "ccdb2ca0-7fda-409d-dae0-ebf830915df0"
      },
      "execution_count": null,
      "outputs": [
        {
          "output_type": "execute_result",
          "data": {
            "text/plain": [
              "<matplotlib.axes._subplots.AxesSubplot at 0x7f6eeacb3150>"
            ]
          },
          "metadata": {},
          "execution_count": 10
        },
        {
          "output_type": "display_data",
          "data": {
            "image/png": "[encoded data removed]",
            "text/plain": [
              "<Figure size 432x288 with 1 Axes>"
            ]
          },
          "metadata": {
            "needs_background": "light"
          }
        }
      ]
    },
    {
      "cell_type": "code",
      "source": [
        ""
      ],
      "metadata": {
        "id": "hV60GiTq2a-Q"
      },
      "execution_count": null,
      "outputs": []
    },
    {
      "cell_type": "code",
      "metadata": {
        "id": "usvIzNNYhrIu",
        "colab": {
          "base_uri": "https://localhost:8080/"
        },
        "outputId": "2b2006f3-e787-4af6-b601-7e54de6cf8b2"
      },
      "source": [
        "df_train.mean()"
      ],
      "execution_count": null,
      "outputs": [
        {
          "output_type": "stream",
          "name": "stderr",
          "text": [
            "/usr/local/lib/python3.7/dist-packages/ipykernel_launcher.py:1: FutureWarning: Dropping of nuisance columns in DataFrame reductions (with 'numeric_only=None') is deprecated; in a future version this will raise TypeError.  Select only valid columns before calling the reduction.\n",
            "  \"\"\"Entry point for launching an IPython kernel.\n"
          ]
        },
        {
          "output_type": "execute_result",
          "data": {
            "text/plain": [
              "Years     2010.142857\n",
              "A          366.285714\n",
              "A-        2038.285714\n",
              "B+        4067.047619\n",
              "B         6222.095238\n",
              "B-        8427.142857\n",
              "C+       10814.380952\n",
              "C        13588.190476\n",
              "C-       16503.904762\n",
              "D+       19132.761905\n",
              "D        22094.190476\n",
              "D-       22104.857143\n",
              "E         4758.285714\n",
              "dtype: float64"
            ]
          },
          "metadata": {},
          "execution_count": 11
        }
      ]
    },
    {
      "cell_type": "code",
      "source": [
        ""
      ],
      "metadata": {
        "id": "gKi7ub912z7E"
      },
      "execution_count": null,
      "outputs": []
    },
    {
      "cell_type": "code",
      "source": [
        "df_train.mode()"
      ],
      "metadata": {
        "colab": {
          "base_uri": "https://localhost:8080/",
          "height": 708
        },
        "id": "8ewD0JVhHqTc",
        "outputId": "977dea26-1d0d-48a5-81f3-a8a1931b475a"
      },
      "execution_count": null,
      "outputs": [
        {
          "output_type": "execute_result",
          "data": {
            "text/html": [
              "\n",
              "  <div id=\"df-7b779b2e-9e7b-41d9-b135-a9c7f7037cc5\">\n",
              "    <div class=\"colab-df-container\">\n",
              "      <div>\n",
              "<style scoped>\n",
              "    .dataframe tbody tr th:only-of-type {\n",
              "        vertical-align: middle;\n",
              "    }\n",
              "\n",
              "    .dataframe tbody tr th {\n",
              "        vertical-align: top;\n",
              "    }\n",
              "\n",
              "    .dataframe thead th {\n",
              "        text-align: right;\n",
              "    }\n",
              "</style>\n",
              "<table border=\"1\" class=\"dataframe\">\n",
              "  <thead>\n",
              "    <tr style=\"text-align: right;\">\n",
              "      <th></th>\n",
              "      <th>Gender</th>\n",
              "      <th>Years</th>\n",
              "      <th>A</th>\n",
              "      <th>A-</th>\n",
              "      <th>B+</th>\n",
              "      <th>B</th>\n",
              "      <th>B-</th>\n",
              "      <th>C+</th>\n",
              "      <th>C</th>\n",
              "      <th>C-</th>\n",
              "      <th>D+</th>\n",
              "      <th>D</th>\n",
              "      <th>D-</th>\n",
              "      <th>E</th>\n",
              "    </tr>\n",
              "  </thead>\n",
              "  <tbody>\n",
              "    <tr>\n",
              "      <th>0</th>\n",
              "      <td>ALL</td>\n",
              "      <td>2006.0</td>\n",
              "      <td>58.0</td>\n",
              "      <td>191</td>\n",
              "      <td>446</td>\n",
              "      <td>772</td>\n",
              "      <td>1234</td>\n",
              "      <td>1873</td>\n",
              "      <td>2554</td>\n",
              "      <td>3193</td>\n",
              "      <td>3418</td>\n",
              "      <td>3291</td>\n",
              "      <td>2635</td>\n",
              "      <td>779</td>\n",
              "    </tr>\n",
              "    <tr>\n",
              "      <th>1</th>\n",
              "      <td>FEMALE</td>\n",
              "      <td>2007.0</td>\n",
              "      <td>NaN</td>\n",
              "      <td>218</td>\n",
              "      <td>473</td>\n",
              "      <td>844</td>\n",
              "      <td>1339</td>\n",
              "      <td>2100</td>\n",
              "      <td>2865</td>\n",
              "      <td>3299</td>\n",
              "      <td>3519</td>\n",
              "      <td>3493</td>\n",
              "      <td>2762</td>\n",
              "      <td>790</td>\n",
              "    </tr>\n",
              "    <tr>\n",
              "      <th>2</th>\n",
              "      <td>MALE</td>\n",
              "      <td>2008.0</td>\n",
              "      <td>NaN</td>\n",
              "      <td>242</td>\n",
              "      <td>553</td>\n",
              "      <td>920</td>\n",
              "      <td>1417</td>\n",
              "      <td>2129</td>\n",
              "      <td>2946</td>\n",
              "      <td>3439</td>\n",
              "      <td>3721</td>\n",
              "      <td>3513</td>\n",
              "      <td>2909</td>\n",
              "      <td>834</td>\n",
              "    </tr>\n",
              "    <tr>\n",
              "      <th>3</th>\n",
              "      <td>NaN</td>\n",
              "      <td>2009.0</td>\n",
              "      <td>NaN</td>\n",
              "      <td>274</td>\n",
              "      <td>596</td>\n",
              "      <td>974</td>\n",
              "      <td>1572</td>\n",
              "      <td>2388</td>\n",
              "      <td>2984</td>\n",
              "      <td>3609</td>\n",
              "      <td>3817</td>\n",
              "      <td>3730</td>\n",
              "      <td>2924</td>\n",
              "      <td>897</td>\n",
              "    </tr>\n",
              "    <tr>\n",
              "      <th>4</th>\n",
              "      <td>NaN</td>\n",
              "      <td>2010.0</td>\n",
              "      <td>NaN</td>\n",
              "      <td>344</td>\n",
              "      <td>744</td>\n",
              "      <td>1219</td>\n",
              "      <td>1875</td>\n",
              "      <td>2569</td>\n",
              "      <td>3216</td>\n",
              "      <td>3618</td>\n",
              "      <td>3981</td>\n",
              "      <td>3942</td>\n",
              "      <td>3400</td>\n",
              "      <td>1257</td>\n",
              "    </tr>\n",
              "    <tr>\n",
              "      <th>5</th>\n",
              "      <td>NaN</td>\n",
              "      <td>2015.0</td>\n",
              "      <td>NaN</td>\n",
              "      <td>563</td>\n",
              "      <td>1159</td>\n",
              "      <td>1627</td>\n",
              "      <td>2108</td>\n",
              "      <td>2722</td>\n",
              "      <td>3314</td>\n",
              "      <td>3824</td>\n",
              "      <td>4043</td>\n",
              "      <td>4150</td>\n",
              "      <td>3593</td>\n",
              "      <td>1304</td>\n",
              "    </tr>\n",
              "    <tr>\n",
              "      <th>6</th>\n",
              "      <td>NaN</td>\n",
              "      <td>2016.0</td>\n",
              "      <td>NaN</td>\n",
              "      <td>628</td>\n",
              "      <td>1195</td>\n",
              "      <td>1761</td>\n",
              "      <td>2268</td>\n",
              "      <td>2871</td>\n",
              "      <td>3463</td>\n",
              "      <td>3996</td>\n",
              "      <td>4402</td>\n",
              "      <td>4336</td>\n",
              "      <td>3606</td>\n",
              "      <td>1306</td>\n",
              "    </tr>\n",
              "    <tr>\n",
              "      <th>7</th>\n",
              "      <td>NaN</td>\n",
              "      <td>NaN</td>\n",
              "      <td>NaN</td>\n",
              "      <td>638</td>\n",
              "      <td>1413</td>\n",
              "      <td>1957</td>\n",
              "      <td>2469</td>\n",
              "      <td>2972</td>\n",
              "      <td>3637</td>\n",
              "      <td>4247</td>\n",
              "      <td>4447</td>\n",
              "      <td>4514</td>\n",
              "      <td>3776</td>\n",
              "      <td>1326</td>\n",
              "    </tr>\n",
              "    <tr>\n",
              "      <th>8</th>\n",
              "      <td>NaN</td>\n",
              "      <td>NaN</td>\n",
              "      <td>NaN</td>\n",
              "      <td>698</td>\n",
              "      <td>1436</td>\n",
              "      <td>2124</td>\n",
              "      <td>2783</td>\n",
              "      <td>3311</td>\n",
              "      <td>3824</td>\n",
              "      <td>4389</td>\n",
              "      <td>4704</td>\n",
              "      <td>4561</td>\n",
              "      <td>3897</td>\n",
              "      <td>1376</td>\n",
              "    </tr>\n",
              "    <tr>\n",
              "      <th>9</th>\n",
              "      <td>NaN</td>\n",
              "      <td>NaN</td>\n",
              "      <td>NaN</td>\n",
              "      <td>754</td>\n",
              "      <td>1632</td>\n",
              "      <td>2399</td>\n",
              "      <td>3094</td>\n",
              "      <td>3639</td>\n",
              "      <td>4168</td>\n",
              "      <td>4536</td>\n",
              "      <td>4734</td>\n",
              "      <td>4769</td>\n",
              "      <td>4012</td>\n",
              "      <td>1379</td>\n",
              "    </tr>\n",
              "    <tr>\n",
              "      <th>10</th>\n",
              "      <td>NaN</td>\n",
              "      <td>NaN</td>\n",
              "      <td>NaN</td>\n",
              "      <td>846</td>\n",
              "      <td>1641</td>\n",
              "      <td>2458</td>\n",
              "      <td>3342</td>\n",
              "      <td>4442</td>\n",
              "      <td>5538</td>\n",
              "      <td>6492</td>\n",
              "      <td>6937</td>\n",
              "      <td>6804</td>\n",
              "      <td>5544</td>\n",
              "      <td>1569</td>\n",
              "    </tr>\n",
              "    <tr>\n",
              "      <th>11</th>\n",
              "      <td>NaN</td>\n",
              "      <td>NaN</td>\n",
              "      <td>NaN</td>\n",
              "      <td>880</td>\n",
              "      <td>1787</td>\n",
              "      <td>2605</td>\n",
              "      <td>3607</td>\n",
              "      <td>4971</td>\n",
              "      <td>6179</td>\n",
              "      <td>7048</td>\n",
              "      <td>7538</td>\n",
              "      <td>7223</td>\n",
              "      <td>5686</td>\n",
              "      <td>1731</td>\n",
              "    </tr>\n",
              "    <tr>\n",
              "      <th>12</th>\n",
              "      <td>NaN</td>\n",
              "      <td>NaN</td>\n",
              "      <td>NaN</td>\n",
              "      <td>892</td>\n",
              "      <td>1989</td>\n",
              "      <td>2877</td>\n",
              "      <td>3886</td>\n",
              "      <td>5101</td>\n",
              "      <td>6409</td>\n",
              "      <td>7442</td>\n",
              "      <td>8024</td>\n",
              "      <td>8092</td>\n",
              "      <td>6993</td>\n",
              "      <td>2223</td>\n",
              "    </tr>\n",
              "    <tr>\n",
              "      <th>13</th>\n",
              "      <td>NaN</td>\n",
              "      <td>NaN</td>\n",
              "      <td>NaN</td>\n",
              "      <td>972</td>\n",
              "      <td>2009</td>\n",
              "      <td>3098</td>\n",
              "      <td>4355</td>\n",
              "      <td>5699</td>\n",
              "      <td>7040</td>\n",
              "      <td>8243</td>\n",
              "      <td>8849</td>\n",
              "      <td>8850</td>\n",
              "      <td>7503</td>\n",
              "      <td>2583</td>\n",
              "    </tr>\n",
              "    <tr>\n",
              "      <th>14</th>\n",
              "      <td>NaN</td>\n",
              "      <td>NaN</td>\n",
              "      <td>NaN</td>\n",
              "      <td>1236</td>\n",
              "      <td>2531</td>\n",
              "      <td>3677</td>\n",
              "      <td>4969</td>\n",
              "      <td>6361</td>\n",
              "      <td>7805</td>\n",
              "      <td>8925</td>\n",
              "      <td>9438</td>\n",
              "      <td>9330</td>\n",
              "      <td>7788</td>\n",
              "      <td>2610</td>\n",
              "    </tr>\n",
              "    <tr>\n",
              "      <th>15</th>\n",
              "      <td>NaN</td>\n",
              "      <td>NaN</td>\n",
              "      <td>NaN</td>\n",
              "      <td>1960</td>\n",
              "      <td>4394</td>\n",
              "      <td>7012</td>\n",
              "      <td>10096</td>\n",
              "      <td>14969</td>\n",
              "      <td>21832</td>\n",
              "      <td>30047</td>\n",
              "      <td>38976</td>\n",
              "      <td>39113</td>\n",
              "      <td>23127</td>\n",
              "      <td>2755</td>\n",
              "    </tr>\n",
              "    <tr>\n",
              "      <th>16</th>\n",
              "      <td>NaN</td>\n",
              "      <td>NaN</td>\n",
              "      <td>NaN</td>\n",
              "      <td>2685</td>\n",
              "      <td>6581</td>\n",
              "      <td>10204</td>\n",
              "      <td>13649</td>\n",
              "      <td>17238</td>\n",
              "      <td>22960</td>\n",
              "      <td>30979</td>\n",
              "      <td>39319</td>\n",
              "      <td>40442</td>\n",
              "      <td>25531</td>\n",
              "      <td>3127</td>\n",
              "    </tr>\n",
              "    <tr>\n",
              "      <th>17</th>\n",
              "      <td>NaN</td>\n",
              "      <td>NaN</td>\n",
              "      <td>NaN</td>\n",
              "      <td>4117</td>\n",
              "      <td>8410</td>\n",
              "      <td>13634</td>\n",
              "      <td>19269</td>\n",
              "      <td>25214</td>\n",
              "      <td>31476</td>\n",
              "      <td>36633</td>\n",
              "      <td>40181</td>\n",
              "      <td>54648</td>\n",
              "      <td>48658</td>\n",
              "      <td>5350</td>\n",
              "    </tr>\n",
              "    <tr>\n",
              "      <th>18</th>\n",
              "      <td>NaN</td>\n",
              "      <td>NaN</td>\n",
              "      <td>NaN</td>\n",
              "      <td>4645</td>\n",
              "      <td>10975</td>\n",
              "      <td>17216</td>\n",
              "      <td>23745</td>\n",
              "      <td>29556</td>\n",
              "      <td>33437</td>\n",
              "      <td>37482</td>\n",
              "      <td>41632</td>\n",
              "      <td>57487</td>\n",
              "      <td>72211</td>\n",
              "      <td>15322</td>\n",
              "    </tr>\n",
              "    <tr>\n",
              "      <th>19</th>\n",
              "      <td>NaN</td>\n",
              "      <td>NaN</td>\n",
              "      <td>NaN</td>\n",
              "      <td>7952</td>\n",
              "      <td>13517</td>\n",
              "      <td>19826</td>\n",
              "      <td>25312</td>\n",
              "      <td>32207</td>\n",
              "      <td>44792</td>\n",
              "      <td>61026</td>\n",
              "      <td>79157</td>\n",
              "      <td>79555</td>\n",
              "      <td>77718</td>\n",
              "      <td>18007</td>\n",
              "    </tr>\n",
              "    <tr>\n",
              "      <th>20</th>\n",
              "      <td>NaN</td>\n",
              "      <td>NaN</td>\n",
              "      <td>NaN</td>\n",
              "      <td>12069</td>\n",
              "      <td>21927</td>\n",
              "      <td>33460</td>\n",
              "      <td>44581</td>\n",
              "      <td>54770</td>\n",
              "      <td>64913</td>\n",
              "      <td>74115</td>\n",
              "      <td>80951</td>\n",
              "      <td>112135</td>\n",
              "      <td>149929</td>\n",
              "      <td>33399</td>\n",
              "    </tr>\n",
              "  </tbody>\n",
              "</table>\n",
              "</div>\n",
              "      <button class=\"colab-df-convert\" onclick=\"convertToInteractive('df-7b779b2e-9e7b-41d9-b135-a9c7f7037cc5')\"\n",
              "              title=\"Convert this dataframe to an interactive table.\"\n",
              "              style=\"display:none;\">\n",
              "        \n",
              "  <svg xmlns=\"http://www.w3.org/2000/svg\" height=\"24px\"viewBox=\"0 0 24 24\"\n",
              "       width=\"24px\">\n",
              "    <path d=\"M0 0h24v24H0V0z\" fill=\"none\"/>\n",
              "    <path d=\"M18.56 5.44l.94 2.06.94-2.06 2.06-.94-2.06-.94-.94-2.06-.94 2.06-2.06.94zm-11 1L8.5 8.5l.94-2.06 2.06-.94-2.06-.94L8.5 2.5l-.94 2.06-2.06.94zm10 10l.94 2.06.94-2.06 2.06-.94-2.06-.94-.94-2.06-.94 2.06-2.06.94z\"/><path d=\"M17.41 7.96l-1.37-1.37c-.4-.4-.92-.59-1.43-.59-.52 0-1.04.2-1.43.59L10.3 9.45l-7.72 7.72c-.78.78-.78 2.05 0 2.83L4 21.41c.39.39.9.59 1.41.59.51 0 1.02-.2 1.41-.59l7.78-7.78 2.81-2.81c.8-.78.8-2.07 0-2.86zM5.41 20L4 18.59l7.72-7.72 1.47 1.35L5.41 20z\"/>\n",
              "  </svg>\n",
              "      </button>\n",
              "      \n",
              "  <style>\n",
              "    .colab-df-container {\n",
              "      display:flex;\n",
              "      flex-wrap:wrap;\n",
              "      gap: 12px;\n",
              "    }\n",
              "\n",
              "    .colab-df-convert {\n",
              "      background-color: #E8F0FE;\n",
              "      border: none;\n",
              "      border-radius: 50%;\n",
              "      cursor: pointer;\n",
              "      display: none;\n",
              "      fill: #1967D2;\n",
              "      height: 32px;\n",
              "      padding: 0 0 0 0;\n",
              "      width: 32px;\n",
              "    }\n",
              "\n",
              "    .colab-df-convert:hover {\n",
              "      background-color: #E2EBFA;\n",
              "      box-shadow: 0px 1px 2px rgba(60, 64, 67, 0.3), 0px 1px 3px 1px rgba(60, 64, 67, 0.15);\n",
              "      fill: #174EA6;\n",
              "    }\n",
              "\n",
              "    [theme=dark] .colab-df-convert {\n",
              "      background-color: #3B4455;\n",
              "      fill: #D2E3FC;\n",
              "    }\n",
              "\n",
              "    [theme=dark] .colab-df-convert:hover {\n",
              "      background-color: #434B5C;\n",
              "      box-shadow: 0px 1px 3px 1px rgba(0, 0, 0, 0.15);\n",
              "      filter: drop-shadow(0px 1px 2px rgba(0, 0, 0, 0.3));\n",
              "      fill: #FFFFFF;\n",
              "    }\n",
              "  </style>\n",
              "\n",
              "      <script>\n",
              "        const buttonEl =\n",
              "          document.querySelector('#df-7b779b2e-9e7b-41d9-b135-a9c7f7037cc5 button.colab-df-convert');\n",
              "        buttonEl.style.display =\n",
              "          google.colab.kernel.accessAllowed ? 'block' : 'none';\n",
              "\n",
              "        async function convertToInteractive(key) {\n",
              "          const element = document.querySelector('#df-7b779b2e-9e7b-41d9-b135-a9c7f7037cc5');\n",
              "          const dataTable =\n",
              "            await google.colab.kernel.invokeFunction('convertToInteractive',\n",
              "                                                     [key], {});\n",
              "          if (!dataTable) return;\n",
              "\n",
              "          const docLinkHtml = 'Like what you see? Visit the ' +\n",
              "            '<a target=\"_blank\" href=https://colab.research.google.com/notebooks/data_table.ipynb>data table notebook</a>'\n",
              "            + ' to learn more about interactive tables.';\n",
              "          element.innerHTML = '';\n",
              "          dataTable['output_type'] = 'display_data';\n",
              "          await google.colab.output.renderOutput(dataTable, element);\n",
              "          const docLink = document.createElement('div');\n",
              "          docLink.innerHTML = docLinkHtml;\n",
              "          element.appendChild(docLink);\n",
              "        }\n",
              "      </script>\n",
              "    </div>\n",
              "  </div>\n",
              "  "
            ],
            "text/plain": [
              "    Gender   Years     A     A-     B+  ...     C-     D+       D      D-      E\n",
              "0      ALL  2006.0  58.0    191    446  ...   3193   3418    3291    2635    779\n",
              "1   FEMALE  2007.0   NaN    218    473  ...   3299   3519    3493    2762    790\n",
              "2     MALE  2008.0   NaN    242    553  ...   3439   3721    3513    2909    834\n",
              "3      NaN  2009.0   NaN    274    596  ...   3609   3817    3730    2924    897\n",
              "4      NaN  2010.0   NaN    344    744  ...   3618   3981    3942    3400   1257\n",
              "5      NaN  2015.0   NaN    563   1159  ...   3824   4043    4150    3593   1304\n",
              "6      NaN  2016.0   NaN    628   1195  ...   3996   4402    4336    3606   1306\n",
              "7      NaN     NaN   NaN    638   1413  ...   4247   4447    4514    3776   1326\n",
              "8      NaN     NaN   NaN    698   1436  ...   4389   4704    4561    3897   1376\n",
              "9      NaN     NaN   NaN    754   1632  ...   4536   4734    4769    4012   1379\n",
              "10     NaN     NaN   NaN    846   1641  ...   6492   6937    6804    5544   1569\n",
              "11     NaN     NaN   NaN    880   1787  ...   7048   7538    7223    5686   1731\n",
              "12     NaN     NaN   NaN    892   1989  ...   7442   8024    8092    6993   2223\n",
              "13     NaN     NaN   NaN    972   2009  ...   8243   8849    8850    7503   2583\n",
              "14     NaN     NaN   NaN   1236   2531  ...   8925   9438    9330    7788   2610\n",
              "15     NaN     NaN   NaN   1960   4394  ...  30047  38976   39113   23127   2755\n",
              "16     NaN     NaN   NaN   2685   6581  ...  30979  39319   40442   25531   3127\n",
              "17     NaN     NaN   NaN   4117   8410  ...  36633  40181   54648   48658   5350\n",
              "18     NaN     NaN   NaN   4645  10975  ...  37482  41632   57487   72211  15322\n",
              "19     NaN     NaN   NaN   7952  13517  ...  61026  79157   79555   77718  18007\n",
              "20     NaN     NaN   NaN  12069  21927  ...  74115  80951  112135  149929  33399\n",
              "\n",
              "[21 rows x 14 columns]"
            ]
          },
          "metadata": {},
          "execution_count": 12
        }
      ]
    }
  ]
}